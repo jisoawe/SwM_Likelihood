{
 "cells": [
  {
   "cell_type": "code",
   "execution_count": null,
   "metadata": {
    "colab": {
     "base_uri": "https://localhost:8080/",
     "height": 73,
     "resources": {
      "http://localhost:8080/nbextensions/google.colab/files.js": {
       "data": "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",
       "headers": [
        [
         "content-type",
         "application/javascript"
        ]
       ],
       "ok": true,
       "status": 200,
       "status_text": ""
      }
     }
    },
    "id": "It0L1TT0jKPi",
    "outputId": "becacc54-5749-460c-84cc-91225e740d45"
   },
   "outputs": [
    {
     "data": {
      "text/html": [
       "\n",
       "     <input type=\"file\" id=\"files-ed82a46e-ed93-40e5-b072-eb86db417ffc\" name=\"files[]\" multiple disabled\n",
       "        style=\"border:none\" />\n",
       "     <output id=\"result-ed82a46e-ed93-40e5-b072-eb86db417ffc\">\n",
       "      Upload widget is only available when the cell has been executed in the\n",
       "      current browser session. Please rerun this cell to enable.\n",
       "      </output>\n",
       "      <script src=\"/nbextensions/google.colab/files.js\"></script> "
      ],
      "text/plain": [
       "<IPython.core.display.HTML object>"
      ]
     },
     "metadata": {},
     "output_type": "display_data"
    },
    {
     "name": "stdout",
     "output_type": "stream",
     "text": [
      "Saving data.csv to data.csv\n"
     ]
    }
   ],
   "source": [
    "from google.colab import files\n",
    " \n",
    " \n",
    "uploaded = files.upload()"
   ]
  },
  {
   "cell_type": "code",
   "execution_count": null,
   "metadata": {
    "id": "Q77eFMXMjyJB"
   },
   "outputs": [],
   "source": [
    "import numpy as np\n",
    "import seaborn as sns\n",
    "import matplotlib.pyplot as plt\n",
    "from sklearn.preprocessing import StandardScaler\n",
    "standardizer = StandardScaler()"
   ]
  },
  {
   "cell_type": "code",
   "execution_count": null,
   "metadata": {
    "colab": {
     "base_uri": "https://localhost:8080/",
     "height": 386
    },
    "id": "Y44eVPg1kX0p",
    "outputId": "66e082fe-72ea-4b20-f85c-cb54b939ee85"
   },
   "outputs": [
    {
     "data": {
      "text/html": [
       "\n",
       "  <div id=\"df-b38c67af-5981-437e-849b-fd4677253ce1\">\n",
       "    <div class=\"colab-df-container\">\n",
       "      <div>\n",
       "<style scoped>\n",
       "    .dataframe tbody tr th:only-of-type {\n",
       "        vertical-align: middle;\n",
       "    }\n",
       "\n",
       "    .dataframe tbody tr th {\n",
       "        vertical-align: top;\n",
       "    }\n",
       "\n",
       "    .dataframe thead th {\n",
       "        text-align: right;\n",
       "    }\n",
       "</style>\n",
       "<table border=\"1\" class=\"dataframe\">\n",
       "  <thead>\n",
       "    <tr style=\"text-align: right;\">\n",
       "      <th></th>\n",
       "      <th>PitchNo</th>\n",
       "      <th>Date</th>\n",
       "      <th>Time</th>\n",
       "      <th>PAofInning</th>\n",
       "      <th>PitchofPA</th>\n",
       "      <th>Pitcher</th>\n",
       "      <th>PitcherId</th>\n",
       "      <th>PitcherThrows</th>\n",
       "      <th>PitcherTeam</th>\n",
       "      <th>Batter</th>\n",
       "      <th>...</th>\n",
       "      <th>ThrowTrajectoryZc2</th>\n",
       "      <th>PitchReleaseConfidence</th>\n",
       "      <th>PitchLocationConfidence</th>\n",
       "      <th>PitchMovementConfidence</th>\n",
       "      <th>HitLaunchConfidence</th>\n",
       "      <th>HitLandingConfidence</th>\n",
       "      <th>CatcherThrowCatchConfidence</th>\n",
       "      <th>CatcherThrowReleaseConfidence</th>\n",
       "      <th>CatcherThrowLocationConfidence</th>\n",
       "      <th>swungAt</th>\n",
       "    </tr>\n",
       "  </thead>\n",
       "  <tbody>\n",
       "    <tr>\n",
       "      <th>0</th>\n",
       "      <td>1</td>\n",
       "      <td>2021-10-17</td>\n",
       "      <td>14:00:35.17</td>\n",
       "      <td>1</td>\n",
       "      <td>1</td>\n",
       "      <td>Molsky, Tommy</td>\n",
       "      <td>1.000113e+09</td>\n",
       "      <td>Right</td>\n",
       "      <td>PSU_PRA</td>\n",
       "      <td>Gerlott, Billy</td>\n",
       "      <td>...</td>\n",
       "      <td>NaN</td>\n",
       "      <td>High</td>\n",
       "      <td>High</td>\n",
       "      <td>High</td>\n",
       "      <td>NaN</td>\n",
       "      <td>NaN</td>\n",
       "      <td>NaN</td>\n",
       "      <td>NaN</td>\n",
       "      <td>NaN</td>\n",
       "      <td>0</td>\n",
       "    </tr>\n",
       "    <tr>\n",
       "      <th>1</th>\n",
       "      <td>2</td>\n",
       "      <td>2021-10-17</td>\n",
       "      <td>14:00:49.80</td>\n",
       "      <td>1</td>\n",
       "      <td>2</td>\n",
       "      <td>Molsky, Tommy</td>\n",
       "      <td>1.000113e+09</td>\n",
       "      <td>Right</td>\n",
       "      <td>PSU_PRA</td>\n",
       "      <td>Gerlott, Billy</td>\n",
       "      <td>...</td>\n",
       "      <td>NaN</td>\n",
       "      <td>High</td>\n",
       "      <td>High</td>\n",
       "      <td>High</td>\n",
       "      <td>NaN</td>\n",
       "      <td>NaN</td>\n",
       "      <td>NaN</td>\n",
       "      <td>NaN</td>\n",
       "      <td>NaN</td>\n",
       "      <td>0</td>\n",
       "    </tr>\n",
       "    <tr>\n",
       "      <th>2</th>\n",
       "      <td>3</td>\n",
       "      <td>2021-10-17</td>\n",
       "      <td>14:01:04.79</td>\n",
       "      <td>1</td>\n",
       "      <td>3</td>\n",
       "      <td>Molsky, Tommy</td>\n",
       "      <td>1.000113e+09</td>\n",
       "      <td>Right</td>\n",
       "      <td>PSU_PRA</td>\n",
       "      <td>Gerlott, Billy</td>\n",
       "      <td>...</td>\n",
       "      <td>NaN</td>\n",
       "      <td>High</td>\n",
       "      <td>High</td>\n",
       "      <td>High</td>\n",
       "      <td>NaN</td>\n",
       "      <td>NaN</td>\n",
       "      <td>NaN</td>\n",
       "      <td>NaN</td>\n",
       "      <td>NaN</td>\n",
       "      <td>1</td>\n",
       "    </tr>\n",
       "    <tr>\n",
       "      <th>3</th>\n",
       "      <td>4</td>\n",
       "      <td>2021-10-17</td>\n",
       "      <td>14:01:22.27</td>\n",
       "      <td>1</td>\n",
       "      <td>4</td>\n",
       "      <td>Molsky, Tommy</td>\n",
       "      <td>1.000113e+09</td>\n",
       "      <td>Right</td>\n",
       "      <td>PSU_PRA</td>\n",
       "      <td>Gerlott, Billy</td>\n",
       "      <td>...</td>\n",
       "      <td>NaN</td>\n",
       "      <td>High</td>\n",
       "      <td>High</td>\n",
       "      <td>High</td>\n",
       "      <td>NaN</td>\n",
       "      <td>NaN</td>\n",
       "      <td>NaN</td>\n",
       "      <td>NaN</td>\n",
       "      <td>NaN</td>\n",
       "      <td>1</td>\n",
       "    </tr>\n",
       "    <tr>\n",
       "      <th>4</th>\n",
       "      <td>5</td>\n",
       "      <td>2021-10-17</td>\n",
       "      <td>14:01:55.20</td>\n",
       "      <td>2</td>\n",
       "      <td>1</td>\n",
       "      <td>Molsky, Tommy</td>\n",
       "      <td>1.000113e+09</td>\n",
       "      <td>Right</td>\n",
       "      <td>PSU_PRA</td>\n",
       "      <td>Burke, Noah</td>\n",
       "      <td>...</td>\n",
       "      <td>NaN</td>\n",
       "      <td>High</td>\n",
       "      <td>Medium</td>\n",
       "      <td>Medium</td>\n",
       "      <td>NaN</td>\n",
       "      <td>NaN</td>\n",
       "      <td>NaN</td>\n",
       "      <td>NaN</td>\n",
       "      <td>NaN</td>\n",
       "      <td>0</td>\n",
       "    </tr>\n",
       "  </tbody>\n",
       "</table>\n",
       "<p>5 rows × 168 columns</p>\n",
       "</div>\n",
       "      <button class=\"colab-df-convert\" onclick=\"convertToInteractive('df-b38c67af-5981-437e-849b-fd4677253ce1')\"\n",
       "              title=\"Convert this dataframe to an interactive table.\"\n",
       "              style=\"display:none;\">\n",
       "        \n",
       "  <svg xmlns=\"http://www.w3.org/2000/svg\" height=\"24px\"viewBox=\"0 0 24 24\"\n",
       "       width=\"24px\">\n",
       "    <path d=\"M0 0h24v24H0V0z\" fill=\"none\"/>\n",
       "    <path d=\"M18.56 5.44l.94 2.06.94-2.06 2.06-.94-2.06-.94-.94-2.06-.94 2.06-2.06.94zm-11 1L8.5 8.5l.94-2.06 2.06-.94-2.06-.94L8.5 2.5l-.94 2.06-2.06.94zm10 10l.94 2.06.94-2.06 2.06-.94-2.06-.94-.94-2.06-.94 2.06-2.06.94z\"/><path d=\"M17.41 7.96l-1.37-1.37c-.4-.4-.92-.59-1.43-.59-.52 0-1.04.2-1.43.59L10.3 9.45l-7.72 7.72c-.78.78-.78 2.05 0 2.83L4 21.41c.39.39.9.59 1.41.59.51 0 1.02-.2 1.41-.59l7.78-7.78 2.81-2.81c.8-.78.8-2.07 0-2.86zM5.41 20L4 18.59l7.72-7.72 1.47 1.35L5.41 20z\"/>\n",
       "  </svg>\n",
       "      </button>\n",
       "      \n",
       "  <style>\n",
       "    .colab-df-container {\n",
       "      display:flex;\n",
       "      flex-wrap:wrap;\n",
       "      gap: 12px;\n",
       "    }\n",
       "\n",
       "    .colab-df-convert {\n",
       "      background-color: #E8F0FE;\n",
       "      border: none;\n",
       "      border-radius: 50%;\n",
       "      cursor: pointer;\n",
       "      display: none;\n",
       "      fill: #1967D2;\n",
       "      height: 32px;\n",
       "      padding: 0 0 0 0;\n",
       "      width: 32px;\n",
       "    }\n",
       "\n",
       "    .colab-df-convert:hover {\n",
       "      background-color: #E2EBFA;\n",
       "      box-shadow: 0px 1px 2px rgba(60, 64, 67, 0.3), 0px 1px 3px 1px rgba(60, 64, 67, 0.15);\n",
       "      fill: #174EA6;\n",
       "    }\n",
       "\n",
       "    [theme=dark] .colab-df-convert {\n",
       "      background-color: #3B4455;\n",
       "      fill: #D2E3FC;\n",
       "    }\n",
       "\n",
       "    [theme=dark] .colab-df-convert:hover {\n",
       "      background-color: #434B5C;\n",
       "      box-shadow: 0px 1px 3px 1px rgba(0, 0, 0, 0.15);\n",
       "      filter: drop-shadow(0px 1px 2px rgba(0, 0, 0, 0.3));\n",
       "      fill: #FFFFFF;\n",
       "    }\n",
       "  </style>\n",
       "\n",
       "      <script>\n",
       "        const buttonEl =\n",
       "          document.querySelector('#df-b38c67af-5981-437e-849b-fd4677253ce1 button.colab-df-convert');\n",
       "        buttonEl.style.display =\n",
       "          google.colab.kernel.accessAllowed ? 'block' : 'none';\n",
       "\n",
       "        async function convertToInteractive(key) {\n",
       "          const element = document.querySelector('#df-b38c67af-5981-437e-849b-fd4677253ce1');\n",
       "          const dataTable =\n",
       "            await google.colab.kernel.invokeFunction('convertToInteractive',\n",
       "                                                     [key], {});\n",
       "          if (!dataTable) return;\n",
       "\n",
       "          const docLinkHtml = 'Like what you see? Visit the ' +\n",
       "            '<a target=\"_blank\" href=https://colab.research.google.com/notebooks/data_table.ipynb>data table notebook</a>'\n",
       "            + ' to learn more about interactive tables.';\n",
       "          element.innerHTML = '';\n",
       "          dataTable['output_type'] = 'display_data';\n",
       "          await google.colab.output.renderOutput(dataTable, element);\n",
       "          const docLink = document.createElement('div');\n",
       "          docLink.innerHTML = docLinkHtml;\n",
       "          element.appendChild(docLink);\n",
       "        }\n",
       "      </script>\n",
       "    </div>\n",
       "  </div>\n",
       "  "
      ],
      "text/plain": [
       "   PitchNo        Date         Time  PAofInning  PitchofPA        Pitcher  \\\n",
       "0        1  2021-10-17  14:00:35.17           1          1  Molsky, Tommy   \n",
       "1        2  2021-10-17  14:00:49.80           1          2  Molsky, Tommy   \n",
       "2        3  2021-10-17  14:01:04.79           1          3  Molsky, Tommy   \n",
       "3        4  2021-10-17  14:01:22.27           1          4  Molsky, Tommy   \n",
       "4        5  2021-10-17  14:01:55.20           2          1  Molsky, Tommy   \n",
       "\n",
       "      PitcherId PitcherThrows PitcherTeam          Batter  ...  \\\n",
       "0  1.000113e+09         Right     PSU_PRA  Gerlott, Billy  ...   \n",
       "1  1.000113e+09         Right     PSU_PRA  Gerlott, Billy  ...   \n",
       "2  1.000113e+09         Right     PSU_PRA  Gerlott, Billy  ...   \n",
       "3  1.000113e+09         Right     PSU_PRA  Gerlott, Billy  ...   \n",
       "4  1.000113e+09         Right     PSU_PRA     Burke, Noah  ...   \n",
       "\n",
       "   ThrowTrajectoryZc2 PitchReleaseConfidence PitchLocationConfidence  \\\n",
       "0                 NaN                   High                    High   \n",
       "1                 NaN                   High                    High   \n",
       "2                 NaN                   High                    High   \n",
       "3                 NaN                   High                    High   \n",
       "4                 NaN                   High                  Medium   \n",
       "\n",
       "  PitchMovementConfidence  HitLaunchConfidence HitLandingConfidence  \\\n",
       "0                    High                  NaN                  NaN   \n",
       "1                    High                  NaN                  NaN   \n",
       "2                    High                  NaN                  NaN   \n",
       "3                    High                  NaN                  NaN   \n",
       "4                  Medium                  NaN                  NaN   \n",
       "\n",
       "   CatcherThrowCatchConfidence  CatcherThrowReleaseConfidence  \\\n",
       "0                          NaN                            NaN   \n",
       "1                          NaN                            NaN   \n",
       "2                          NaN                            NaN   \n",
       "3                          NaN                            NaN   \n",
       "4                          NaN                            NaN   \n",
       "\n",
       "   CatcherThrowLocationConfidence swungAt  \n",
       "0                             NaN       0  \n",
       "1                             NaN       0  \n",
       "2                             NaN       1  \n",
       "3                             NaN       1  \n",
       "4                             NaN       0  \n",
       "\n",
       "[5 rows x 168 columns]"
      ]
     },
     "execution_count": 46,
     "metadata": {},
     "output_type": "execute_result"
    }
   ],
   "source": [
    "import pandas as pd\n",
    "dataset = pd.read_csv(\"data.csv\")\n",
    "dataset.head()"
   ]
  },
  {
   "cell_type": "code",
   "execution_count": null,
   "metadata": {
    "id": "0RHcnLaNlt0L"
   },
   "outputs": [],
   "source": [
    "X = dataset[['PitchNo', 'RelSpeed', 'SpinRate', 'InducedVertBreak', 'HorzBreak',\n",
    "             'PitcherThrows', 'BatterSide', 'TaggedPitchType', 'PlateLocSide', 'PlateLocHeight',\n",
    "             'ZoneSpeed', 'Balls', 'Strikes', 'swungAt']]"
   ]
  },
  {
   "cell_type": "code",
   "execution_count": null,
   "metadata": {
    "colab": {
     "base_uri": "https://localhost:8080/"
    },
    "id": "1GzsF2DqfpOI",
    "outputId": "89d8181e-4803-4830-f20a-c1a109d98b12"
   },
   "outputs": [
    {
     "data": {
      "text/plain": [
       "3199"
      ]
     },
     "execution_count": 48,
     "metadata": {},
     "output_type": "execute_result"
    }
   ],
   "source": [
    "len(X)"
   ]
  },
  {
   "cell_type": "markdown",
   "metadata": {
    "id": "H5bMt5-jqhlN"
   },
   "source": [
    "#Feature Engineering"
   ]
  },
  {
   "cell_type": "code",
   "execution_count": null,
   "metadata": {
    "id": "h8gBKQebpkLK"
   },
   "outputs": [],
   "source": [
    "prev_pitch_list = []\n",
    "for i in range(len(X)):\n",
    "    \n",
    "    if X['PitchNo'][i] == 1:\n",
    "        previous_pitch = 'none'\n",
    "    \n",
    "    elif X['PitchNo'][i]!= 1:\n",
    "        previous_pitch = X['TaggedPitchType'][i-1]\n",
    "    \n",
    "    prev_pitch_list.append(previous_pitch)"
   ]
  },
  {
   "cell_type": "code",
   "execution_count": null,
   "metadata": {
    "colab": {
     "base_uri": "https://localhost:8080/"
    },
    "id": "e4gibmLOpo10",
    "outputId": "e3ad61d6-8a91-4959-f2b2-7ba6400d703b"
   },
   "outputs": [
    {
     "name": "stderr",
     "output_type": "stream",
     "text": [
      "/usr/local/lib/python3.7/dist-packages/ipykernel_launcher.py:1: SettingWithCopyWarning: \n",
      "A value is trying to be set on a copy of a slice from a DataFrame.\n",
      "Try using .loc[row_indexer,col_indexer] = value instead\n",
      "\n",
      "See the caveats in the documentation: https://pandas.pydata.org/pandas-docs/stable/user_guide/indexing.html#returning-a-view-versus-a-copy\n",
      "  \"\"\"Entry point for launching an IPython kernel.\n"
     ]
    }
   ],
   "source": [
    "X['PreviousPitchType'] = prev_pitch_list"
   ]
  },
  {
   "cell_type": "code",
   "execution_count": null,
   "metadata": {
    "colab": {
     "base_uri": "https://localhost:8080/"
    },
    "id": "gKY3a41cpSux",
    "outputId": "6acd51b0-5343-4c4a-983a-1cb8e133deb9"
   },
   "outputs": [
    {
     "data": {
      "text/plain": [
       "PitchNo              0\n",
       "RelSpeed             2\n",
       "SpinRate             7\n",
       "InducedVertBreak     2\n",
       "HorzBreak            2\n",
       "PitcherThrows        0\n",
       "BatterSide           0\n",
       "TaggedPitchType      0\n",
       "PlateLocSide         2\n",
       "PlateLocHeight       2\n",
       "ZoneSpeed            2\n",
       "Balls                0\n",
       "Strikes              0\n",
       "swungAt              0\n",
       "PreviousPitchType    0\n",
       "dtype: int64"
      ]
     },
     "execution_count": 51,
     "metadata": {},
     "output_type": "execute_result"
    }
   ],
   "source": [
    "X.isnull().sum()"
   ]
  },
  {
   "cell_type": "code",
   "execution_count": null,
   "metadata": {
    "colab": {
     "base_uri": "https://localhost:8080/"
    },
    "id": "LjD-ObkepchI",
    "outputId": "b9c863ae-ee5d-454e-9a80-26ad85c2c79b"
   },
   "outputs": [
    {
     "data": {
      "text/plain": [
       "PitchNo              0\n",
       "RelSpeed             0\n",
       "SpinRate             0\n",
       "InducedVertBreak     0\n",
       "HorzBreak            0\n",
       "PitcherThrows        0\n",
       "BatterSide           0\n",
       "TaggedPitchType      0\n",
       "PlateLocSide         0\n",
       "PlateLocHeight       0\n",
       "ZoneSpeed            0\n",
       "Balls                0\n",
       "Strikes              0\n",
       "swungAt              0\n",
       "PreviousPitchType    0\n",
       "dtype: int64"
      ]
     },
     "execution_count": 52,
     "metadata": {},
     "output_type": "execute_result"
    }
   ],
   "source": [
    "X = X.dropna()\n",
    "X.isnull().sum()"
   ]
  },
  {
   "cell_type": "code",
   "execution_count": null,
   "metadata": {
    "colab": {
     "base_uri": "https://localhost:8080/"
    },
    "id": "hKmzcARjf1Ou",
    "outputId": "99942eae-8730-413d-b7dd-6791a5d07e70"
   },
   "outputs": [
    {
     "data": {
      "text/plain": [
       "3192"
      ]
     },
     "execution_count": 53,
     "metadata": {},
     "output_type": "execute_result"
    }
   ],
   "source": [
    "len(X)"
   ]
  },
  {
   "cell_type": "code",
   "execution_count": null,
   "metadata": {
    "id": "mUQjOrUwf4XS"
   },
   "outputs": [],
   "source": [
    "swing = X[X.swungAt == 1]"
   ]
  },
  {
   "cell_type": "code",
   "execution_count": null,
   "metadata": {
    "colab": {
     "base_uri": "https://localhost:8080/"
    },
    "id": "zbU6F74lgm5R",
    "outputId": "26b95451-764a-45d0-d023-2dbd574057c2"
   },
   "outputs": [
    {
     "data": {
      "text/plain": [
       "1294"
      ]
     },
     "execution_count": 55,
     "metadata": {},
     "output_type": "execute_result"
    }
   ],
   "source": [
    "len(swing)"
   ]
  },
  {
   "cell_type": "code",
   "execution_count": null,
   "metadata": {
    "id": "IibbTMypghTh"
   },
   "outputs": [],
   "source": [
    "noswing = X[X.swungAt == 0]"
   ]
  },
  {
   "cell_type": "code",
   "execution_count": null,
   "metadata": {
    "colab": {
     "base_uri": "https://localhost:8080/"
    },
    "id": "wbsVkyMMgkt2",
    "outputId": "d362066a-3e4d-46f9-ce9f-12b3d722bb03"
   },
   "outputs": [
    {
     "data": {
      "text/plain": [
       "1898"
      ]
     },
     "execution_count": 57,
     "metadata": {},
     "output_type": "execute_result"
    }
   ],
   "source": [
    "len(noswing)"
   ]
  },
  {
   "cell_type": "code",
   "execution_count": null,
   "metadata": {
    "id": "43Y5hIcrqmIz"
   },
   "outputs": [],
   "source": [
    "y=X['swungAt']"
   ]
  },
  {
   "cell_type": "code",
   "execution_count": null,
   "metadata": {
    "id": "kxkuZ8kBvc5y"
   },
   "outputs": [],
   "source": [
    "X[\"RelSpeed_vs_ZoneSpeed\"] = X[\"RelSpeed\"] - X[\"ZoneSpeed\"]"
   ]
  },
  {
   "cell_type": "code",
   "execution_count": null,
   "metadata": {
    "id": "WUYb3DPXzq5m"
   },
   "outputs": [],
   "source": [
    "meanSpeed = X['RelSpeed'].mean()"
   ]
  },
  {
   "cell_type": "code",
   "execution_count": null,
   "metadata": {
    "id": "1fEkzpV4w4_t"
   },
   "outputs": [],
   "source": [
    "X[\"Difference_from_avg_speed\"] = X[\"RelSpeed\"] - meanSpeed"
   ]
  },
  {
   "cell_type": "code",
   "execution_count": null,
   "metadata": {
    "id": "nZ26-iyyybrE"
   },
   "outputs": [],
   "source": [
    "meanLocSide = X['PlateLocSide'].mean()\n",
    "meanLocHeight = X['PlateLocHeight'].mean()"
   ]
  },
  {
   "cell_type": "code",
   "execution_count": null,
   "metadata": {
    "id": "txCV6YV2yRGa"
   },
   "outputs": [],
   "source": [
    "X[\"SideExtremity\"] = X[\"PlateLocSide\"] - meanLocSide\n",
    "X[\"HeightExtremity\"] = X[\"PlateLocHeight\"] - meanLocHeight\n"
   ]
  },
  {
   "cell_type": "code",
   "execution_count": null,
   "metadata": {
    "id": "M8y7grYsgnmP"
   },
   "outputs": [],
   "source": [
    "X['Extreme'] = (X[\"Difference_from_avg_speed\"] + X['SideExtremity'] + X['HeightExtremity'])/(meanSpeed + meanLocSide + meanLocHeight)"
   ]
  },
  {
   "cell_type": "code",
   "execution_count": null,
   "metadata": {
    "id": "UNl9s53okZKv"
   },
   "outputs": [],
   "source": [
    "# HorzBreak\n",
    "meanHorzBreak = X['HorzBreak'].mean()\n",
    "X['HorzBreakExtremity'] = X['HorzBreak'] - meanHorzBreak"
   ]
  },
  {
   "cell_type": "code",
   "execution_count": null,
   "metadata": {
    "id": "hJu3CI00krKu"
   },
   "outputs": [],
   "source": [
    "# VertBreak\n",
    "meanVertBreak = X['InducedVertBreak'].mean()\n",
    "X['VertBreakExtremity'] = X['InducedVertBreak'] - meanHorzBreak"
   ]
  },
  {
   "cell_type": "code",
   "execution_count": null,
   "metadata": {
    "id": "QtKew0b3kujy"
   },
   "outputs": [],
   "source": [
    "# SpinRate\n",
    "meanSpinRate = X['SpinRate'].mean()\n",
    "X['SpinRateExtremity'] = X['SpinRate'] - meanSpinRate"
   ]
  },
  {
   "cell_type": "code",
   "execution_count": null,
   "metadata": {
    "id": "MsbLXpbJlWsY"
   },
   "outputs": [],
   "source": [
    "X['PitchMovement'] = (X[\"SpinRateExtremity\"] + X['HorzBreakExtremity'] + X['VertBreakExtremity'])/(meanHorzBreak + meanVertBreak + meanSpinRate) "
   ]
  },
  {
   "cell_type": "code",
   "execution_count": null,
   "metadata": {
    "colab": {
     "base_uri": "https://localhost:8080/",
     "height": 299
    },
    "id": "SKOKgkNRxSyw",
    "outputId": "68ee5ff4-c026-4933-8016-3d88e560c591"
   },
   "outputs": [
    {
     "data": {
      "text/html": [
       "\n",
       "  <div id=\"df-ed9bbe63-9fd6-4921-9b1c-a1f76442afdd\">\n",
       "    <div class=\"colab-df-container\">\n",
       "      <div>\n",
       "<style scoped>\n",
       "    .dataframe tbody tr th:only-of-type {\n",
       "        vertical-align: middle;\n",
       "    }\n",
       "\n",
       "    .dataframe tbody tr th {\n",
       "        vertical-align: top;\n",
       "    }\n",
       "\n",
       "    .dataframe thead th {\n",
       "        text-align: right;\n",
       "    }\n",
       "</style>\n",
       "<table border=\"1\" class=\"dataframe\">\n",
       "  <thead>\n",
       "    <tr style=\"text-align: right;\">\n",
       "      <th></th>\n",
       "      <th>PitchNo</th>\n",
       "      <th>RelSpeed</th>\n",
       "      <th>SpinRate</th>\n",
       "      <th>InducedVertBreak</th>\n",
       "      <th>HorzBreak</th>\n",
       "      <th>PitcherThrows</th>\n",
       "      <th>BatterSide</th>\n",
       "      <th>TaggedPitchType</th>\n",
       "      <th>PlateLocSide</th>\n",
       "      <th>PlateLocHeight</th>\n",
       "      <th>...</th>\n",
       "      <th>PreviousPitchType</th>\n",
       "      <th>RelSpeed_vs_ZoneSpeed</th>\n",
       "      <th>Difference_from_avg_speed</th>\n",
       "      <th>SideExtremity</th>\n",
       "      <th>HeightExtremity</th>\n",
       "      <th>Extreme</th>\n",
       "      <th>HorzBreakExtremity</th>\n",
       "      <th>VertBreakExtremity</th>\n",
       "      <th>SpinRateExtremity</th>\n",
       "      <th>PitchMovement</th>\n",
       "    </tr>\n",
       "  </thead>\n",
       "  <tbody>\n",
       "    <tr>\n",
       "      <th>0</th>\n",
       "      <td>1</td>\n",
       "      <td>91.31813</td>\n",
       "      <td>2115.387638</td>\n",
       "      <td>17.54001</td>\n",
       "      <td>14.25583</td>\n",
       "      <td>Right</td>\n",
       "      <td>Right</td>\n",
       "      <td>Fastball</td>\n",
       "      <td>2.20333</td>\n",
       "      <td>2.98657</td>\n",
       "      <td>...</td>\n",
       "      <td>none</td>\n",
       "      <td>8.07295</td>\n",
       "      <td>6.649483</td>\n",
       "      <td>2.160573</td>\n",
       "      <td>0.724514</td>\n",
       "      <td>0.109626</td>\n",
       "      <td>11.629056</td>\n",
       "      <td>14.913236</td>\n",
       "      <td>-23.313020</td>\n",
       "      <td>0.001501</td>\n",
       "    </tr>\n",
       "    <tr>\n",
       "      <th>1</th>\n",
       "      <td>2</td>\n",
       "      <td>92.25342</td>\n",
       "      <td>1671.583699</td>\n",
       "      <td>12.53052</td>\n",
       "      <td>10.74146</td>\n",
       "      <td>Right</td>\n",
       "      <td>Right</td>\n",
       "      <td>Fastball</td>\n",
       "      <td>0.41052</td>\n",
       "      <td>3.44076</td>\n",
       "      <td>...</td>\n",
       "      <td>Fastball</td>\n",
       "      <td>7.37993</td>\n",
       "      <td>7.584773</td>\n",
       "      <td>0.367763</td>\n",
       "      <td>1.178704</td>\n",
       "      <td>0.104989</td>\n",
       "      <td>8.114686</td>\n",
       "      <td>9.903746</td>\n",
       "      <td>-467.116959</td>\n",
       "      <td>-0.208711</td>\n",
       "    </tr>\n",
       "    <tr>\n",
       "      <th>2</th>\n",
       "      <td>3</td>\n",
       "      <td>81.35562</td>\n",
       "      <td>2236.681310</td>\n",
       "      <td>-2.12973</td>\n",
       "      <td>-7.99288</td>\n",
       "      <td>Right</td>\n",
       "      <td>Right</td>\n",
       "      <td>Slider</td>\n",
       "      <td>-0.34575</td>\n",
       "      <td>2.44097</td>\n",
       "      <td>...</td>\n",
       "      <td>Fastball</td>\n",
       "      <td>5.69224</td>\n",
       "      <td>-3.313027</td>\n",
       "      <td>-0.388507</td>\n",
       "      <td>0.178914</td>\n",
       "      <td>-0.040502</td>\n",
       "      <td>-10.619654</td>\n",
       "      <td>-4.756504</td>\n",
       "      <td>97.980652</td>\n",
       "      <td>0.038389</td>\n",
       "    </tr>\n",
       "    <tr>\n",
       "      <th>3</th>\n",
       "      <td>4</td>\n",
       "      <td>81.62514</td>\n",
       "      <td>2569.976060</td>\n",
       "      <td>3.08008</td>\n",
       "      <td>-10.24032</td>\n",
       "      <td>Right</td>\n",
       "      <td>Right</td>\n",
       "      <td>Slider</td>\n",
       "      <td>-1.91768</td>\n",
       "      <td>0.87508</td>\n",
       "      <td>...</td>\n",
       "      <td>Slider</td>\n",
       "      <td>5.30141</td>\n",
       "      <td>-3.043507</td>\n",
       "      <td>-1.960437</td>\n",
       "      <td>-1.386976</td>\n",
       "      <td>-0.073481</td>\n",
       "      <td>-12.867094</td>\n",
       "      <td>0.453306</td>\n",
       "      <td>431.275402</td>\n",
       "      <td>0.194659</td>\n",
       "    </tr>\n",
       "    <tr>\n",
       "      <th>4</th>\n",
       "      <td>5</td>\n",
       "      <td>93.31665</td>\n",
       "      <td>1918.602426</td>\n",
       "      <td>13.62296</td>\n",
       "      <td>12.53012</td>\n",
       "      <td>Right</td>\n",
       "      <td>Left</td>\n",
       "      <td>Fastball</td>\n",
       "      <td>-0.10321</td>\n",
       "      <td>1.32272</td>\n",
       "      <td>...</td>\n",
       "      <td>Slider</td>\n",
       "      <td>7.03196</td>\n",
       "      <td>8.648003</td>\n",
       "      <td>-0.145967</td>\n",
       "      <td>-0.939336</td>\n",
       "      <td>0.086954</td>\n",
       "      <td>9.903346</td>\n",
       "      <td>10.996186</td>\n",
       "      <td>-220.098232</td>\n",
       "      <td>-0.092574</td>\n",
       "    </tr>\n",
       "  </tbody>\n",
       "</table>\n",
       "<p>5 rows × 24 columns</p>\n",
       "</div>\n",
       "      <button class=\"colab-df-convert\" onclick=\"convertToInteractive('df-ed9bbe63-9fd6-4921-9b1c-a1f76442afdd')\"\n",
       "              title=\"Convert this dataframe to an interactive table.\"\n",
       "              style=\"display:none;\">\n",
       "        \n",
       "  <svg xmlns=\"http://www.w3.org/2000/svg\" height=\"24px\"viewBox=\"0 0 24 24\"\n",
       "       width=\"24px\">\n",
       "    <path d=\"M0 0h24v24H0V0z\" fill=\"none\"/>\n",
       "    <path d=\"M18.56 5.44l.94 2.06.94-2.06 2.06-.94-2.06-.94-.94-2.06-.94 2.06-2.06.94zm-11 1L8.5 8.5l.94-2.06 2.06-.94-2.06-.94L8.5 2.5l-.94 2.06-2.06.94zm10 10l.94 2.06.94-2.06 2.06-.94-2.06-.94-.94-2.06-.94 2.06-2.06.94z\"/><path d=\"M17.41 7.96l-1.37-1.37c-.4-.4-.92-.59-1.43-.59-.52 0-1.04.2-1.43.59L10.3 9.45l-7.72 7.72c-.78.78-.78 2.05 0 2.83L4 21.41c.39.39.9.59 1.41.59.51 0 1.02-.2 1.41-.59l7.78-7.78 2.81-2.81c.8-.78.8-2.07 0-2.86zM5.41 20L4 18.59l7.72-7.72 1.47 1.35L5.41 20z\"/>\n",
       "  </svg>\n",
       "      </button>\n",
       "      \n",
       "  <style>\n",
       "    .colab-df-container {\n",
       "      display:flex;\n",
       "      flex-wrap:wrap;\n",
       "      gap: 12px;\n",
       "    }\n",
       "\n",
       "    .colab-df-convert {\n",
       "      background-color: #E8F0FE;\n",
       "      border: none;\n",
       "      border-radius: 50%;\n",
       "      cursor: pointer;\n",
       "      display: none;\n",
       "      fill: #1967D2;\n",
       "      height: 32px;\n",
       "      padding: 0 0 0 0;\n",
       "      width: 32px;\n",
       "    }\n",
       "\n",
       "    .colab-df-convert:hover {\n",
       "      background-color: #E2EBFA;\n",
       "      box-shadow: 0px 1px 2px rgba(60, 64, 67, 0.3), 0px 1px 3px 1px rgba(60, 64, 67, 0.15);\n",
       "      fill: #174EA6;\n",
       "    }\n",
       "\n",
       "    [theme=dark] .colab-df-convert {\n",
       "      background-color: #3B4455;\n",
       "      fill: #D2E3FC;\n",
       "    }\n",
       "\n",
       "    [theme=dark] .colab-df-convert:hover {\n",
       "      background-color: #434B5C;\n",
       "      box-shadow: 0px 1px 3px 1px rgba(0, 0, 0, 0.15);\n",
       "      filter: drop-shadow(0px 1px 2px rgba(0, 0, 0, 0.3));\n",
       "      fill: #FFFFFF;\n",
       "    }\n",
       "  </style>\n",
       "\n",
       "      <script>\n",
       "        const buttonEl =\n",
       "          document.querySelector('#df-ed9bbe63-9fd6-4921-9b1c-a1f76442afdd button.colab-df-convert');\n",
       "        buttonEl.style.display =\n",
       "          google.colab.kernel.accessAllowed ? 'block' : 'none';\n",
       "\n",
       "        async function convertToInteractive(key) {\n",
       "          const element = document.querySelector('#df-ed9bbe63-9fd6-4921-9b1c-a1f76442afdd');\n",
       "          const dataTable =\n",
       "            await google.colab.kernel.invokeFunction('convertToInteractive',\n",
       "                                                     [key], {});\n",
       "          if (!dataTable) return;\n",
       "\n",
       "          const docLinkHtml = 'Like what you see? Visit the ' +\n",
       "            '<a target=\"_blank\" href=https://colab.research.google.com/notebooks/data_table.ipynb>data table notebook</a>'\n",
       "            + ' to learn more about interactive tables.';\n",
       "          element.innerHTML = '';\n",
       "          dataTable['output_type'] = 'display_data';\n",
       "          await google.colab.output.renderOutput(dataTable, element);\n",
       "          const docLink = document.createElement('div');\n",
       "          docLink.innerHTML = docLinkHtml;\n",
       "          element.appendChild(docLink);\n",
       "        }\n",
       "      </script>\n",
       "    </div>\n",
       "  </div>\n",
       "  "
      ],
      "text/plain": [
       "   PitchNo  RelSpeed     SpinRate  InducedVertBreak  HorzBreak PitcherThrows  \\\n",
       "0        1  91.31813  2115.387638          17.54001   14.25583         Right   \n",
       "1        2  92.25342  1671.583699          12.53052   10.74146         Right   \n",
       "2        3  81.35562  2236.681310          -2.12973   -7.99288         Right   \n",
       "3        4  81.62514  2569.976060           3.08008  -10.24032         Right   \n",
       "4        5  93.31665  1918.602426          13.62296   12.53012         Right   \n",
       "\n",
       "  BatterSide TaggedPitchType  PlateLocSide  PlateLocHeight  ...  \\\n",
       "0      Right        Fastball       2.20333         2.98657  ...   \n",
       "1      Right        Fastball       0.41052         3.44076  ...   \n",
       "2      Right          Slider      -0.34575         2.44097  ...   \n",
       "3      Right          Slider      -1.91768         0.87508  ...   \n",
       "4       Left        Fastball      -0.10321         1.32272  ...   \n",
       "\n",
       "   PreviousPitchType  RelSpeed_vs_ZoneSpeed  Difference_from_avg_speed  \\\n",
       "0               none                8.07295                   6.649483   \n",
       "1           Fastball                7.37993                   7.584773   \n",
       "2           Fastball                5.69224                  -3.313027   \n",
       "3             Slider                5.30141                  -3.043507   \n",
       "4             Slider                7.03196                   8.648003   \n",
       "\n",
       "   SideExtremity HeightExtremity   Extreme  HorzBreakExtremity  \\\n",
       "0       2.160573        0.724514  0.109626           11.629056   \n",
       "1       0.367763        1.178704  0.104989            8.114686   \n",
       "2      -0.388507        0.178914 -0.040502          -10.619654   \n",
       "3      -1.960437       -1.386976 -0.073481          -12.867094   \n",
       "4      -0.145967       -0.939336  0.086954            9.903346   \n",
       "\n",
       "   VertBreakExtremity  SpinRateExtremity  PitchMovement  \n",
       "0           14.913236         -23.313020       0.001501  \n",
       "1            9.903746        -467.116959      -0.208711  \n",
       "2           -4.756504          97.980652       0.038389  \n",
       "3            0.453306         431.275402       0.194659  \n",
       "4           10.996186        -220.098232      -0.092574  \n",
       "\n",
       "[5 rows x 24 columns]"
      ]
     },
     "execution_count": 69,
     "metadata": {},
     "output_type": "execute_result"
    }
   ],
   "source": [
    "X.head()"
   ]
  },
  {
   "cell_type": "code",
   "execution_count": null,
   "metadata": {
    "id": "9Iic9qz7gM3V"
   },
   "outputs": [],
   "source": [
    "# Without faster slower higher lower\n",
    "pd.get_dummies(X, columns=['TaggedPitchType', 'PitcherThrows', 'BatterSide']).head()\n",
    "X=pd.get_dummies(X, columns=['TaggedPitchType', 'PitcherThrows', 'BatterSide', 'PreviousPitchType'])"
   ]
  },
  {
   "cell_type": "code",
   "execution_count": null,
   "metadata": {
    "colab": {
     "base_uri": "https://localhost:8080/",
     "height": 487
    },
    "id": "C9wlRyjMojJL",
    "outputId": "59199f14-b44c-4efa-92e3-df6365e7f48b"
   },
   "outputs": [
    {
     "data": {
      "text/html": [
       "\n",
       "  <div id=\"df-bb79bbc3-0c7e-4ea4-8b40-e0cce5a24fb1\">\n",
       "    <div class=\"colab-df-container\">\n",
       "      <div>\n",
       "<style scoped>\n",
       "    .dataframe tbody tr th:only-of-type {\n",
       "        vertical-align: middle;\n",
       "    }\n",
       "\n",
       "    .dataframe tbody tr th {\n",
       "        vertical-align: top;\n",
       "    }\n",
       "\n",
       "    .dataframe thead th {\n",
       "        text-align: right;\n",
       "    }\n",
       "</style>\n",
       "<table border=\"1\" class=\"dataframe\">\n",
       "  <thead>\n",
       "    <tr style=\"text-align: right;\">\n",
       "      <th></th>\n",
       "      <th>PitchNo</th>\n",
       "      <th>RelSpeed</th>\n",
       "      <th>SpinRate</th>\n",
       "      <th>InducedVertBreak</th>\n",
       "      <th>HorzBreak</th>\n",
       "      <th>PlateLocSide</th>\n",
       "      <th>PlateLocHeight</th>\n",
       "      <th>ZoneSpeed</th>\n",
       "      <th>Balls</th>\n",
       "      <th>Strikes</th>\n",
       "      <th>...</th>\n",
       "      <th>BatterSide_Right</th>\n",
       "      <th>BatterSide_Undefined</th>\n",
       "      <th>PreviousPitchType_ChangeUp</th>\n",
       "      <th>PreviousPitchType_Curveball</th>\n",
       "      <th>PreviousPitchType_Cutter</th>\n",
       "      <th>PreviousPitchType_Fastball</th>\n",
       "      <th>PreviousPitchType_Sinker</th>\n",
       "      <th>PreviousPitchType_Slider</th>\n",
       "      <th>PreviousPitchType_Splitter</th>\n",
       "      <th>PreviousPitchType_none</th>\n",
       "    </tr>\n",
       "  </thead>\n",
       "  <tbody>\n",
       "    <tr>\n",
       "      <th>0</th>\n",
       "      <td>1</td>\n",
       "      <td>91.31813</td>\n",
       "      <td>2115.387638</td>\n",
       "      <td>17.54001</td>\n",
       "      <td>14.25583</td>\n",
       "      <td>2.20333</td>\n",
       "      <td>2.98657</td>\n",
       "      <td>83.24518</td>\n",
       "      <td>0</td>\n",
       "      <td>0</td>\n",
       "      <td>...</td>\n",
       "      <td>1</td>\n",
       "      <td>0</td>\n",
       "      <td>0</td>\n",
       "      <td>0</td>\n",
       "      <td>0</td>\n",
       "      <td>0</td>\n",
       "      <td>0</td>\n",
       "      <td>0</td>\n",
       "      <td>0</td>\n",
       "      <td>1</td>\n",
       "    </tr>\n",
       "    <tr>\n",
       "      <th>1</th>\n",
       "      <td>2</td>\n",
       "      <td>92.25342</td>\n",
       "      <td>1671.583699</td>\n",
       "      <td>12.53052</td>\n",
       "      <td>10.74146</td>\n",
       "      <td>0.41052</td>\n",
       "      <td>3.44076</td>\n",
       "      <td>84.87349</td>\n",
       "      <td>1</td>\n",
       "      <td>0</td>\n",
       "      <td>...</td>\n",
       "      <td>1</td>\n",
       "      <td>0</td>\n",
       "      <td>0</td>\n",
       "      <td>0</td>\n",
       "      <td>0</td>\n",
       "      <td>1</td>\n",
       "      <td>0</td>\n",
       "      <td>0</td>\n",
       "      <td>0</td>\n",
       "      <td>0</td>\n",
       "    </tr>\n",
       "    <tr>\n",
       "      <th>2</th>\n",
       "      <td>3</td>\n",
       "      <td>81.35562</td>\n",
       "      <td>2236.681310</td>\n",
       "      <td>-2.12973</td>\n",
       "      <td>-7.99288</td>\n",
       "      <td>-0.34575</td>\n",
       "      <td>2.44097</td>\n",
       "      <td>75.66338</td>\n",
       "      <td>1</td>\n",
       "      <td>1</td>\n",
       "      <td>...</td>\n",
       "      <td>1</td>\n",
       "      <td>0</td>\n",
       "      <td>0</td>\n",
       "      <td>0</td>\n",
       "      <td>0</td>\n",
       "      <td>1</td>\n",
       "      <td>0</td>\n",
       "      <td>0</td>\n",
       "      <td>0</td>\n",
       "      <td>0</td>\n",
       "    </tr>\n",
       "    <tr>\n",
       "      <th>3</th>\n",
       "      <td>4</td>\n",
       "      <td>81.62514</td>\n",
       "      <td>2569.976060</td>\n",
       "      <td>3.08008</td>\n",
       "      <td>-10.24032</td>\n",
       "      <td>-1.91768</td>\n",
       "      <td>0.87508</td>\n",
       "      <td>76.32373</td>\n",
       "      <td>1</td>\n",
       "      <td>2</td>\n",
       "      <td>...</td>\n",
       "      <td>1</td>\n",
       "      <td>0</td>\n",
       "      <td>0</td>\n",
       "      <td>0</td>\n",
       "      <td>0</td>\n",
       "      <td>0</td>\n",
       "      <td>0</td>\n",
       "      <td>1</td>\n",
       "      <td>0</td>\n",
       "      <td>0</td>\n",
       "    </tr>\n",
       "    <tr>\n",
       "      <th>4</th>\n",
       "      <td>5</td>\n",
       "      <td>93.31665</td>\n",
       "      <td>1918.602426</td>\n",
       "      <td>13.62296</td>\n",
       "      <td>12.53012</td>\n",
       "      <td>-0.10321</td>\n",
       "      <td>1.32272</td>\n",
       "      <td>86.28469</td>\n",
       "      <td>0</td>\n",
       "      <td>0</td>\n",
       "      <td>...</td>\n",
       "      <td>0</td>\n",
       "      <td>0</td>\n",
       "      <td>0</td>\n",
       "      <td>0</td>\n",
       "      <td>0</td>\n",
       "      <td>0</td>\n",
       "      <td>0</td>\n",
       "      <td>1</td>\n",
       "      <td>0</td>\n",
       "      <td>0</td>\n",
       "    </tr>\n",
       "    <tr>\n",
       "      <th>...</th>\n",
       "      <td>...</td>\n",
       "      <td>...</td>\n",
       "      <td>...</td>\n",
       "      <td>...</td>\n",
       "      <td>...</td>\n",
       "      <td>...</td>\n",
       "      <td>...</td>\n",
       "      <td>...</td>\n",
       "      <td>...</td>\n",
       "      <td>...</td>\n",
       "      <td>...</td>\n",
       "      <td>...</td>\n",
       "      <td>...</td>\n",
       "      <td>...</td>\n",
       "      <td>...</td>\n",
       "      <td>...</td>\n",
       "      <td>...</td>\n",
       "      <td>...</td>\n",
       "      <td>...</td>\n",
       "      <td>...</td>\n",
       "      <td>...</td>\n",
       "    </tr>\n",
       "    <tr>\n",
       "      <th>3194</th>\n",
       "      <td>199</td>\n",
       "      <td>83.22079</td>\n",
       "      <td>2001.539498</td>\n",
       "      <td>17.44690</td>\n",
       "      <td>8.37937</td>\n",
       "      <td>-0.30213</td>\n",
       "      <td>1.92353</td>\n",
       "      <td>76.23039</td>\n",
       "      <td>3</td>\n",
       "      <td>1</td>\n",
       "      <td>...</td>\n",
       "      <td>1</td>\n",
       "      <td>0</td>\n",
       "      <td>0</td>\n",
       "      <td>0</td>\n",
       "      <td>0</td>\n",
       "      <td>1</td>\n",
       "      <td>0</td>\n",
       "      <td>0</td>\n",
       "      <td>0</td>\n",
       "      <td>0</td>\n",
       "    </tr>\n",
       "    <tr>\n",
       "      <th>3195</th>\n",
       "      <td>200</td>\n",
       "      <td>82.15128</td>\n",
       "      <td>1973.073429</td>\n",
       "      <td>18.24103</td>\n",
       "      <td>13.21564</td>\n",
       "      <td>0.73147</td>\n",
       "      <td>3.42959</td>\n",
       "      <td>75.51590</td>\n",
       "      <td>0</td>\n",
       "      <td>0</td>\n",
       "      <td>...</td>\n",
       "      <td>0</td>\n",
       "      <td>0</td>\n",
       "      <td>0</td>\n",
       "      <td>0</td>\n",
       "      <td>0</td>\n",
       "      <td>1</td>\n",
       "      <td>0</td>\n",
       "      <td>0</td>\n",
       "      <td>0</td>\n",
       "      <td>0</td>\n",
       "    </tr>\n",
       "    <tr>\n",
       "      <th>3196</th>\n",
       "      <td>201</td>\n",
       "      <td>83.93347</td>\n",
       "      <td>2049.658488</td>\n",
       "      <td>20.35985</td>\n",
       "      <td>11.47757</td>\n",
       "      <td>-0.53054</td>\n",
       "      <td>1.48254</td>\n",
       "      <td>76.87528</td>\n",
       "      <td>0</td>\n",
       "      <td>1</td>\n",
       "      <td>...</td>\n",
       "      <td>0</td>\n",
       "      <td>0</td>\n",
       "      <td>0</td>\n",
       "      <td>0</td>\n",
       "      <td>0</td>\n",
       "      <td>1</td>\n",
       "      <td>0</td>\n",
       "      <td>0</td>\n",
       "      <td>0</td>\n",
       "      <td>0</td>\n",
       "    </tr>\n",
       "    <tr>\n",
       "      <th>3197</th>\n",
       "      <td>202</td>\n",
       "      <td>80.90595</td>\n",
       "      <td>2057.596755</td>\n",
       "      <td>17.95107</td>\n",
       "      <td>13.06501</td>\n",
       "      <td>-0.86395</td>\n",
       "      <td>0.62801</td>\n",
       "      <td>74.58459</td>\n",
       "      <td>0</td>\n",
       "      <td>0</td>\n",
       "      <td>...</td>\n",
       "      <td>0</td>\n",
       "      <td>0</td>\n",
       "      <td>0</td>\n",
       "      <td>0</td>\n",
       "      <td>0</td>\n",
       "      <td>1</td>\n",
       "      <td>0</td>\n",
       "      <td>0</td>\n",
       "      <td>0</td>\n",
       "      <td>0</td>\n",
       "    </tr>\n",
       "    <tr>\n",
       "      <th>3198</th>\n",
       "      <td>203</td>\n",
       "      <td>82.79100</td>\n",
       "      <td>2033.026115</td>\n",
       "      <td>17.58320</td>\n",
       "      <td>5.30083</td>\n",
       "      <td>-0.30202</td>\n",
       "      <td>2.37911</td>\n",
       "      <td>74.95434</td>\n",
       "      <td>1</td>\n",
       "      <td>0</td>\n",
       "      <td>...</td>\n",
       "      <td>0</td>\n",
       "      <td>0</td>\n",
       "      <td>0</td>\n",
       "      <td>0</td>\n",
       "      <td>0</td>\n",
       "      <td>1</td>\n",
       "      <td>0</td>\n",
       "      <td>0</td>\n",
       "      <td>0</td>\n",
       "      <td>0</td>\n",
       "    </tr>\n",
       "  </tbody>\n",
       "</table>\n",
       "<p>3192 rows × 40 columns</p>\n",
       "</div>\n",
       "      <button class=\"colab-df-convert\" onclick=\"convertToInteractive('df-bb79bbc3-0c7e-4ea4-8b40-e0cce5a24fb1')\"\n",
       "              title=\"Convert this dataframe to an interactive table.\"\n",
       "              style=\"display:none;\">\n",
       "        \n",
       "  <svg xmlns=\"http://www.w3.org/2000/svg\" height=\"24px\"viewBox=\"0 0 24 24\"\n",
       "       width=\"24px\">\n",
       "    <path d=\"M0 0h24v24H0V0z\" fill=\"none\"/>\n",
       "    <path d=\"M18.56 5.44l.94 2.06.94-2.06 2.06-.94-2.06-.94-.94-2.06-.94 2.06-2.06.94zm-11 1L8.5 8.5l.94-2.06 2.06-.94-2.06-.94L8.5 2.5l-.94 2.06-2.06.94zm10 10l.94 2.06.94-2.06 2.06-.94-2.06-.94-.94-2.06-.94 2.06-2.06.94z\"/><path d=\"M17.41 7.96l-1.37-1.37c-.4-.4-.92-.59-1.43-.59-.52 0-1.04.2-1.43.59L10.3 9.45l-7.72 7.72c-.78.78-.78 2.05 0 2.83L4 21.41c.39.39.9.59 1.41.59.51 0 1.02-.2 1.41-.59l7.78-7.78 2.81-2.81c.8-.78.8-2.07 0-2.86zM5.41 20L4 18.59l7.72-7.72 1.47 1.35L5.41 20z\"/>\n",
       "  </svg>\n",
       "      </button>\n",
       "      \n",
       "  <style>\n",
       "    .colab-df-container {\n",
       "      display:flex;\n",
       "      flex-wrap:wrap;\n",
       "      gap: 12px;\n",
       "    }\n",
       "\n",
       "    .colab-df-convert {\n",
       "      background-color: #E8F0FE;\n",
       "      border: none;\n",
       "      border-radius: 50%;\n",
       "      cursor: pointer;\n",
       "      display: none;\n",
       "      fill: #1967D2;\n",
       "      height: 32px;\n",
       "      padding: 0 0 0 0;\n",
       "      width: 32px;\n",
       "    }\n",
       "\n",
       "    .colab-df-convert:hover {\n",
       "      background-color: #E2EBFA;\n",
       "      box-shadow: 0px 1px 2px rgba(60, 64, 67, 0.3), 0px 1px 3px 1px rgba(60, 64, 67, 0.15);\n",
       "      fill: #174EA6;\n",
       "    }\n",
       "\n",
       "    [theme=dark] .colab-df-convert {\n",
       "      background-color: #3B4455;\n",
       "      fill: #D2E3FC;\n",
       "    }\n",
       "\n",
       "    [theme=dark] .colab-df-convert:hover {\n",
       "      background-color: #434B5C;\n",
       "      box-shadow: 0px 1px 3px 1px rgba(0, 0, 0, 0.15);\n",
       "      filter: drop-shadow(0px 1px 2px rgba(0, 0, 0, 0.3));\n",
       "      fill: #FFFFFF;\n",
       "    }\n",
       "  </style>\n",
       "\n",
       "      <script>\n",
       "        const buttonEl =\n",
       "          document.querySelector('#df-bb79bbc3-0c7e-4ea4-8b40-e0cce5a24fb1 button.colab-df-convert');\n",
       "        buttonEl.style.display =\n",
       "          google.colab.kernel.accessAllowed ? 'block' : 'none';\n",
       "\n",
       "        async function convertToInteractive(key) {\n",
       "          const element = document.querySelector('#df-bb79bbc3-0c7e-4ea4-8b40-e0cce5a24fb1');\n",
       "          const dataTable =\n",
       "            await google.colab.kernel.invokeFunction('convertToInteractive',\n",
       "                                                     [key], {});\n",
       "          if (!dataTable) return;\n",
       "\n",
       "          const docLinkHtml = 'Like what you see? Visit the ' +\n",
       "            '<a target=\"_blank\" href=https://colab.research.google.com/notebooks/data_table.ipynb>data table notebook</a>'\n",
       "            + ' to learn more about interactive tables.';\n",
       "          element.innerHTML = '';\n",
       "          dataTable['output_type'] = 'display_data';\n",
       "          await google.colab.output.renderOutput(dataTable, element);\n",
       "          const docLink = document.createElement('div');\n",
       "          docLink.innerHTML = docLinkHtml;\n",
       "          element.appendChild(docLink);\n",
       "        }\n",
       "      </script>\n",
       "    </div>\n",
       "  </div>\n",
       "  "
      ],
      "text/plain": [
       "      PitchNo  RelSpeed     SpinRate  InducedVertBreak  HorzBreak  \\\n",
       "0           1  91.31813  2115.387638          17.54001   14.25583   \n",
       "1           2  92.25342  1671.583699          12.53052   10.74146   \n",
       "2           3  81.35562  2236.681310          -2.12973   -7.99288   \n",
       "3           4  81.62514  2569.976060           3.08008  -10.24032   \n",
       "4           5  93.31665  1918.602426          13.62296   12.53012   \n",
       "...       ...       ...          ...               ...        ...   \n",
       "3194      199  83.22079  2001.539498          17.44690    8.37937   \n",
       "3195      200  82.15128  1973.073429          18.24103   13.21564   \n",
       "3196      201  83.93347  2049.658488          20.35985   11.47757   \n",
       "3197      202  80.90595  2057.596755          17.95107   13.06501   \n",
       "3198      203  82.79100  2033.026115          17.58320    5.30083   \n",
       "\n",
       "      PlateLocSide  PlateLocHeight  ZoneSpeed  Balls  Strikes  ...  \\\n",
       "0          2.20333         2.98657   83.24518      0        0  ...   \n",
       "1          0.41052         3.44076   84.87349      1        0  ...   \n",
       "2         -0.34575         2.44097   75.66338      1        1  ...   \n",
       "3         -1.91768         0.87508   76.32373      1        2  ...   \n",
       "4         -0.10321         1.32272   86.28469      0        0  ...   \n",
       "...            ...             ...        ...    ...      ...  ...   \n",
       "3194      -0.30213         1.92353   76.23039      3        1  ...   \n",
       "3195       0.73147         3.42959   75.51590      0        0  ...   \n",
       "3196      -0.53054         1.48254   76.87528      0        1  ...   \n",
       "3197      -0.86395         0.62801   74.58459      0        0  ...   \n",
       "3198      -0.30202         2.37911   74.95434      1        0  ...   \n",
       "\n",
       "      BatterSide_Right  BatterSide_Undefined  PreviousPitchType_ChangeUp  \\\n",
       "0                    1                     0                           0   \n",
       "1                    1                     0                           0   \n",
       "2                    1                     0                           0   \n",
       "3                    1                     0                           0   \n",
       "4                    0                     0                           0   \n",
       "...                ...                   ...                         ...   \n",
       "3194                 1                     0                           0   \n",
       "3195                 0                     0                           0   \n",
       "3196                 0                     0                           0   \n",
       "3197                 0                     0                           0   \n",
       "3198                 0                     0                           0   \n",
       "\n",
       "      PreviousPitchType_Curveball  PreviousPitchType_Cutter  \\\n",
       "0                               0                         0   \n",
       "1                               0                         0   \n",
       "2                               0                         0   \n",
       "3                               0                         0   \n",
       "4                               0                         0   \n",
       "...                           ...                       ...   \n",
       "3194                            0                         0   \n",
       "3195                            0                         0   \n",
       "3196                            0                         0   \n",
       "3197                            0                         0   \n",
       "3198                            0                         0   \n",
       "\n",
       "      PreviousPitchType_Fastball  PreviousPitchType_Sinker  \\\n",
       "0                              0                         0   \n",
       "1                              1                         0   \n",
       "2                              1                         0   \n",
       "3                              0                         0   \n",
       "4                              0                         0   \n",
       "...                          ...                       ...   \n",
       "3194                           1                         0   \n",
       "3195                           1                         0   \n",
       "3196                           1                         0   \n",
       "3197                           1                         0   \n",
       "3198                           1                         0   \n",
       "\n",
       "      PreviousPitchType_Slider  PreviousPitchType_Splitter  \\\n",
       "0                            0                           0   \n",
       "1                            0                           0   \n",
       "2                            0                           0   \n",
       "3                            1                           0   \n",
       "4                            1                           0   \n",
       "...                        ...                         ...   \n",
       "3194                         0                           0   \n",
       "3195                         0                           0   \n",
       "3196                         0                           0   \n",
       "3197                         0                           0   \n",
       "3198                         0                           0   \n",
       "\n",
       "      PreviousPitchType_none  \n",
       "0                          1  \n",
       "1                          0  \n",
       "2                          0  \n",
       "3                          0  \n",
       "4                          0  \n",
       "...                      ...  \n",
       "3194                       0  \n",
       "3195                       0  \n",
       "3196                       0  \n",
       "3197                       0  \n",
       "3198                       0  \n",
       "\n",
       "[3192 rows x 40 columns]"
      ]
     },
     "execution_count": 71,
     "metadata": {},
     "output_type": "execute_result"
    }
   ],
   "source": [
    "X"
   ]
  },
  {
   "cell_type": "code",
   "execution_count": null,
   "metadata": {
    "id": "YrGOBiZyWlf_"
   },
   "outputs": [],
   "source": [
    "df = X"
   ]
  },
  {
   "cell_type": "code",
   "execution_count": null,
   "metadata": {
    "colab": {
     "base_uri": "https://localhost:8080/",
     "height": 299
    },
    "id": "it8tZ7ML-Syj",
    "outputId": "d82b5d58-de71-4ac5-b927-03036ed9ac99"
   },
   "outputs": [
    {
     "data": {
      "text/html": [
       "\n",
       "  <div id=\"df-8f06aacc-0846-4980-8251-a16431d00059\">\n",
       "    <div class=\"colab-df-container\">\n",
       "      <div>\n",
       "<style scoped>\n",
       "    .dataframe tbody tr th:only-of-type {\n",
       "        vertical-align: middle;\n",
       "    }\n",
       "\n",
       "    .dataframe tbody tr th {\n",
       "        vertical-align: top;\n",
       "    }\n",
       "\n",
       "    .dataframe thead th {\n",
       "        text-align: right;\n",
       "    }\n",
       "</style>\n",
       "<table border=\"1\" class=\"dataframe\">\n",
       "  <thead>\n",
       "    <tr style=\"text-align: right;\">\n",
       "      <th></th>\n",
       "      <th>PitchNo</th>\n",
       "      <th>RelSpeed</th>\n",
       "      <th>SpinRate</th>\n",
       "      <th>InducedVertBreak</th>\n",
       "      <th>HorzBreak</th>\n",
       "      <th>PlateLocSide</th>\n",
       "      <th>PlateLocHeight</th>\n",
       "      <th>ZoneSpeed</th>\n",
       "      <th>Balls</th>\n",
       "      <th>Strikes</th>\n",
       "      <th>...</th>\n",
       "      <th>BatterSide_Right</th>\n",
       "      <th>BatterSide_Undefined</th>\n",
       "      <th>PreviousPitchType_ChangeUp</th>\n",
       "      <th>PreviousPitchType_Curveball</th>\n",
       "      <th>PreviousPitchType_Cutter</th>\n",
       "      <th>PreviousPitchType_Fastball</th>\n",
       "      <th>PreviousPitchType_Sinker</th>\n",
       "      <th>PreviousPitchType_Slider</th>\n",
       "      <th>PreviousPitchType_Splitter</th>\n",
       "      <th>PreviousPitchType_none</th>\n",
       "    </tr>\n",
       "  </thead>\n",
       "  <tbody>\n",
       "    <tr>\n",
       "      <th>0</th>\n",
       "      <td>1</td>\n",
       "      <td>91.31813</td>\n",
       "      <td>2115.387638</td>\n",
       "      <td>17.54001</td>\n",
       "      <td>14.25583</td>\n",
       "      <td>2.20333</td>\n",
       "      <td>2.98657</td>\n",
       "      <td>83.24518</td>\n",
       "      <td>0</td>\n",
       "      <td>0</td>\n",
       "      <td>...</td>\n",
       "      <td>1</td>\n",
       "      <td>0</td>\n",
       "      <td>0</td>\n",
       "      <td>0</td>\n",
       "      <td>0</td>\n",
       "      <td>0</td>\n",
       "      <td>0</td>\n",
       "      <td>0</td>\n",
       "      <td>0</td>\n",
       "      <td>1</td>\n",
       "    </tr>\n",
       "    <tr>\n",
       "      <th>1</th>\n",
       "      <td>2</td>\n",
       "      <td>92.25342</td>\n",
       "      <td>1671.583699</td>\n",
       "      <td>12.53052</td>\n",
       "      <td>10.74146</td>\n",
       "      <td>0.41052</td>\n",
       "      <td>3.44076</td>\n",
       "      <td>84.87349</td>\n",
       "      <td>1</td>\n",
       "      <td>0</td>\n",
       "      <td>...</td>\n",
       "      <td>1</td>\n",
       "      <td>0</td>\n",
       "      <td>0</td>\n",
       "      <td>0</td>\n",
       "      <td>0</td>\n",
       "      <td>1</td>\n",
       "      <td>0</td>\n",
       "      <td>0</td>\n",
       "      <td>0</td>\n",
       "      <td>0</td>\n",
       "    </tr>\n",
       "    <tr>\n",
       "      <th>2</th>\n",
       "      <td>3</td>\n",
       "      <td>81.35562</td>\n",
       "      <td>2236.681310</td>\n",
       "      <td>-2.12973</td>\n",
       "      <td>-7.99288</td>\n",
       "      <td>-0.34575</td>\n",
       "      <td>2.44097</td>\n",
       "      <td>75.66338</td>\n",
       "      <td>1</td>\n",
       "      <td>1</td>\n",
       "      <td>...</td>\n",
       "      <td>1</td>\n",
       "      <td>0</td>\n",
       "      <td>0</td>\n",
       "      <td>0</td>\n",
       "      <td>0</td>\n",
       "      <td>1</td>\n",
       "      <td>0</td>\n",
       "      <td>0</td>\n",
       "      <td>0</td>\n",
       "      <td>0</td>\n",
       "    </tr>\n",
       "    <tr>\n",
       "      <th>3</th>\n",
       "      <td>4</td>\n",
       "      <td>81.62514</td>\n",
       "      <td>2569.976060</td>\n",
       "      <td>3.08008</td>\n",
       "      <td>-10.24032</td>\n",
       "      <td>-1.91768</td>\n",
       "      <td>0.87508</td>\n",
       "      <td>76.32373</td>\n",
       "      <td>1</td>\n",
       "      <td>2</td>\n",
       "      <td>...</td>\n",
       "      <td>1</td>\n",
       "      <td>0</td>\n",
       "      <td>0</td>\n",
       "      <td>0</td>\n",
       "      <td>0</td>\n",
       "      <td>0</td>\n",
       "      <td>0</td>\n",
       "      <td>1</td>\n",
       "      <td>0</td>\n",
       "      <td>0</td>\n",
       "    </tr>\n",
       "    <tr>\n",
       "      <th>4</th>\n",
       "      <td>5</td>\n",
       "      <td>93.31665</td>\n",
       "      <td>1918.602426</td>\n",
       "      <td>13.62296</td>\n",
       "      <td>12.53012</td>\n",
       "      <td>-0.10321</td>\n",
       "      <td>1.32272</td>\n",
       "      <td>86.28469</td>\n",
       "      <td>0</td>\n",
       "      <td>0</td>\n",
       "      <td>...</td>\n",
       "      <td>0</td>\n",
       "      <td>0</td>\n",
       "      <td>0</td>\n",
       "      <td>0</td>\n",
       "      <td>0</td>\n",
       "      <td>0</td>\n",
       "      <td>0</td>\n",
       "      <td>1</td>\n",
       "      <td>0</td>\n",
       "      <td>0</td>\n",
       "    </tr>\n",
       "  </tbody>\n",
       "</table>\n",
       "<p>5 rows × 40 columns</p>\n",
       "</div>\n",
       "      <button class=\"colab-df-convert\" onclick=\"convertToInteractive('df-8f06aacc-0846-4980-8251-a16431d00059')\"\n",
       "              title=\"Convert this dataframe to an interactive table.\"\n",
       "              style=\"display:none;\">\n",
       "        \n",
       "  <svg xmlns=\"http://www.w3.org/2000/svg\" height=\"24px\"viewBox=\"0 0 24 24\"\n",
       "       width=\"24px\">\n",
       "    <path d=\"M0 0h24v24H0V0z\" fill=\"none\"/>\n",
       "    <path d=\"M18.56 5.44l.94 2.06.94-2.06 2.06-.94-2.06-.94-.94-2.06-.94 2.06-2.06.94zm-11 1L8.5 8.5l.94-2.06 2.06-.94-2.06-.94L8.5 2.5l-.94 2.06-2.06.94zm10 10l.94 2.06.94-2.06 2.06-.94-2.06-.94-.94-2.06-.94 2.06-2.06.94z\"/><path d=\"M17.41 7.96l-1.37-1.37c-.4-.4-.92-.59-1.43-.59-.52 0-1.04.2-1.43.59L10.3 9.45l-7.72 7.72c-.78.78-.78 2.05 0 2.83L4 21.41c.39.39.9.59 1.41.59.51 0 1.02-.2 1.41-.59l7.78-7.78 2.81-2.81c.8-.78.8-2.07 0-2.86zM5.41 20L4 18.59l7.72-7.72 1.47 1.35L5.41 20z\"/>\n",
       "  </svg>\n",
       "      </button>\n",
       "      \n",
       "  <style>\n",
       "    .colab-df-container {\n",
       "      display:flex;\n",
       "      flex-wrap:wrap;\n",
       "      gap: 12px;\n",
       "    }\n",
       "\n",
       "    .colab-df-convert {\n",
       "      background-color: #E8F0FE;\n",
       "      border: none;\n",
       "      border-radius: 50%;\n",
       "      cursor: pointer;\n",
       "      display: none;\n",
       "      fill: #1967D2;\n",
       "      height: 32px;\n",
       "      padding: 0 0 0 0;\n",
       "      width: 32px;\n",
       "    }\n",
       "\n",
       "    .colab-df-convert:hover {\n",
       "      background-color: #E2EBFA;\n",
       "      box-shadow: 0px 1px 2px rgba(60, 64, 67, 0.3), 0px 1px 3px 1px rgba(60, 64, 67, 0.15);\n",
       "      fill: #174EA6;\n",
       "    }\n",
       "\n",
       "    [theme=dark] .colab-df-convert {\n",
       "      background-color: #3B4455;\n",
       "      fill: #D2E3FC;\n",
       "    }\n",
       "\n",
       "    [theme=dark] .colab-df-convert:hover {\n",
       "      background-color: #434B5C;\n",
       "      box-shadow: 0px 1px 3px 1px rgba(0, 0, 0, 0.15);\n",
       "      filter: drop-shadow(0px 1px 2px rgba(0, 0, 0, 0.3));\n",
       "      fill: #FFFFFF;\n",
       "    }\n",
       "  </style>\n",
       "\n",
       "      <script>\n",
       "        const buttonEl =\n",
       "          document.querySelector('#df-8f06aacc-0846-4980-8251-a16431d00059 button.colab-df-convert');\n",
       "        buttonEl.style.display =\n",
       "          google.colab.kernel.accessAllowed ? 'block' : 'none';\n",
       "\n",
       "        async function convertToInteractive(key) {\n",
       "          const element = document.querySelector('#df-8f06aacc-0846-4980-8251-a16431d00059');\n",
       "          const dataTable =\n",
       "            await google.colab.kernel.invokeFunction('convertToInteractive',\n",
       "                                                     [key], {});\n",
       "          if (!dataTable) return;\n",
       "\n",
       "          const docLinkHtml = 'Like what you see? Visit the ' +\n",
       "            '<a target=\"_blank\" href=https://colab.research.google.com/notebooks/data_table.ipynb>data table notebook</a>'\n",
       "            + ' to learn more about interactive tables.';\n",
       "          element.innerHTML = '';\n",
       "          dataTable['output_type'] = 'display_data';\n",
       "          await google.colab.output.renderOutput(dataTable, element);\n",
       "          const docLink = document.createElement('div');\n",
       "          docLink.innerHTML = docLinkHtml;\n",
       "          element.appendChild(docLink);\n",
       "        }\n",
       "      </script>\n",
       "    </div>\n",
       "  </div>\n",
       "  "
      ],
      "text/plain": [
       "   PitchNo  RelSpeed     SpinRate  InducedVertBreak  HorzBreak  PlateLocSide  \\\n",
       "0        1  91.31813  2115.387638          17.54001   14.25583       2.20333   \n",
       "1        2  92.25342  1671.583699          12.53052   10.74146       0.41052   \n",
       "2        3  81.35562  2236.681310          -2.12973   -7.99288      -0.34575   \n",
       "3        4  81.62514  2569.976060           3.08008  -10.24032      -1.91768   \n",
       "4        5  93.31665  1918.602426          13.62296   12.53012      -0.10321   \n",
       "\n",
       "   PlateLocHeight  ZoneSpeed  Balls  Strikes  ...  BatterSide_Right  \\\n",
       "0         2.98657   83.24518      0        0  ...                 1   \n",
       "1         3.44076   84.87349      1        0  ...                 1   \n",
       "2         2.44097   75.66338      1        1  ...                 1   \n",
       "3         0.87508   76.32373      1        2  ...                 1   \n",
       "4         1.32272   86.28469      0        0  ...                 0   \n",
       "\n",
       "   BatterSide_Undefined  PreviousPitchType_ChangeUp  \\\n",
       "0                     0                           0   \n",
       "1                     0                           0   \n",
       "2                     0                           0   \n",
       "3                     0                           0   \n",
       "4                     0                           0   \n",
       "\n",
       "   PreviousPitchType_Curveball  PreviousPitchType_Cutter  \\\n",
       "0                            0                         0   \n",
       "1                            0                         0   \n",
       "2                            0                         0   \n",
       "3                            0                         0   \n",
       "4                            0                         0   \n",
       "\n",
       "   PreviousPitchType_Fastball  PreviousPitchType_Sinker  \\\n",
       "0                           0                         0   \n",
       "1                           1                         0   \n",
       "2                           1                         0   \n",
       "3                           0                         0   \n",
       "4                           0                         0   \n",
       "\n",
       "   PreviousPitchType_Slider  PreviousPitchType_Splitter  \\\n",
       "0                         0                           0   \n",
       "1                         0                           0   \n",
       "2                         0                           0   \n",
       "3                         1                           0   \n",
       "4                         1                           0   \n",
       "\n",
       "   PreviousPitchType_none  \n",
       "0                       1  \n",
       "1                       0  \n",
       "2                       0  \n",
       "3                       0  \n",
       "4                       0  \n",
       "\n",
       "[5 rows x 40 columns]"
      ]
     },
     "execution_count": 73,
     "metadata": {},
     "output_type": "execute_result"
    }
   ],
   "source": [
    "df.head()"
   ]
  },
  {
   "cell_type": "code",
   "execution_count": null,
   "metadata": {
    "colab": {
     "base_uri": "https://localhost:8080/"
    },
    "id": "r_-U6xF6Aq6J",
    "outputId": "b1844feb-e163-4f2a-aea8-aa189ead1c0c"
   },
   "outputs": [
    {
     "data": {
      "text/plain": [
       "0       0\n",
       "1       0\n",
       "2       1\n",
       "3       1\n",
       "4       0\n",
       "       ..\n",
       "3194    1\n",
       "3195    0\n",
       "3196    1\n",
       "3197    0\n",
       "3198    1\n",
       "Name: swungAt, Length: 3192, dtype: int64"
      ]
     },
     "execution_count": 30,
     "metadata": {},
     "output_type": "execute_result"
    }
   ],
   "source": [
    "X.pop(\"swungAt\")"
   ]
  },
  {
   "cell_type": "markdown",
   "metadata": {
    "id": "PaZOISZa6LT9"
   },
   "source": [
    "# Random Forest"
   ]
  },
  {
   "cell_type": "code",
   "execution_count": null,
   "metadata": {
    "id": "jQ4NKB0gmyoj"
   },
   "outputs": [],
   "source": [
    "from sklearn.preprocessing import StandardScaler\n",
    "standardizer = StandardScaler()\n",
    "X = standardizer.fit_transform(X)"
   ]
  },
  {
   "cell_type": "code",
   "execution_count": null,
   "metadata": {
    "id": "w-I9YR7vEoKD"
   },
   "outputs": [],
   "source": [
    "from sklearn.model_selection import train_test_split\n",
    "\n",
    "X_train, X_test, y_train, y_test = train_test_split(X, y, test_size=0.20, random_state=0)"
   ]
  },
  {
   "cell_type": "code",
   "execution_count": null,
   "metadata": {
    "id": "xs3BrQZpD2bi"
   },
   "outputs": [],
   "source": [
    "\n",
    "from sklearn.ensemble import RandomForestClassifier\n",
    "\n",
    "\n",
    "clf=RandomForestClassifier(n_estimators=150)\n",
    "\n",
    "clf.fit(X_train,y_train)\n",
    "\n",
    "y_pred=clf.predict(X_test)"
   ]
  },
  {
   "cell_type": "code",
   "execution_count": null,
   "metadata": {
    "colab": {
     "base_uri": "https://localhost:8080/"
    },
    "id": "FEVTXXwq_jcK",
    "outputId": "c1d4af4e-3dfd-4265-d3a3-ab7f4e895bc8"
   },
   "outputs": [
    {
     "name": "stdout",
     "output_type": "stream",
     "text": [
      "Accuracy: 0.7652582159624414\n"
     ]
    }
   ],
   "source": [
    "from sklearn import metrics\n",
    "# Model Accuracy, how often is the classifier correct?\n",
    "print(\"Accuracy:\",metrics.accuracy_score(y_test, y_pred))"
   ]
  },
  {
   "cell_type": "code",
   "execution_count": null,
   "metadata": {
    "colab": {
     "base_uri": "https://localhost:8080/"
    },
    "id": "iKu8oq1P3pzx",
    "outputId": "7e28bf9a-9fbf-489d-e00b-bc8f62e5f893"
   },
   "outputs": [
    {
     "data": {
      "text/plain": [
       "array([[320,  76],\n",
       "       [ 74, 169]])"
      ]
     },
     "execution_count": 35,
     "metadata": {},
     "output_type": "execute_result"
    }
   ],
   "source": [
    "from sklearn.metrics import confusion_matrix\n",
    "confusion_matrix(y_test, y_pred)"
   ]
  },
  {
   "cell_type": "code",
   "execution_count": null,
   "metadata": {
    "colab": {
     "base_uri": "https://localhost:8080/",
     "height": 329
    },
    "id": "D_zJdc3cVe5l",
    "outputId": "1a641fff-e0ab-4332-de03-82b518fbb952"
   },
   "outputs": [
    {
     "data": {
      "text/plain": [
       "<function matplotlib.pyplot.show>"
      ]
     },
     "execution_count": 36,
     "metadata": {},
     "output_type": "execute_result"
    },
    {
     "data": {
      "image/png": "[encoded data removed]",
      "text/plain": [
       "<Figure size 432x288 with 2 Axes>"
      ]
     },
     "metadata": {
      "needs_background": "light"
     },
     "output_type": "display_data"
    }
   ],
   "source": [
    "from itertools import combinations, product\n",
    "cm = confusion_matrix(y_test, y_pred)\n",
    "cmap = plt.cm.Greens\n",
    "classes = [0,1]\n",
    "thresh = cm.max() / 2.\n",
    "fmt = 'd'\n",
    "\n",
    "plt.imshow(cm, interpolation='nearest', cmap=cmap)\n",
    "plt.colorbar()\n",
    "tick_marks = np.arange(len(classes))\n",
    "plt.xticks(tick_marks, classes, rotation=0)\n",
    "plt.yticks(tick_marks, classes)\n",
    "plt.tight_layout()\n",
    "plt.ylabel('True label')\n",
    "plt.xlabel('Predicted label')\n",
    "for i, j in product(range(cm.shape[0]), range(cm.shape[1])):\n",
    "    plt.text(j, i, format(cm[i, j], fmt),\n",
    "             horizontalalignment=\"center\",\n",
    "             color=\"white\" if cm[i, j] > thresh else \"black\")\n",
    "plt.show"
   ]
  },
  {
   "cell_type": "code",
   "execution_count": null,
   "metadata": {
    "id": "zGz6Y8v2Ww2x"
   },
   "outputs": [],
   "source": [
    "def plot_feature_importance(importance,names,model_type):\n",
    "\n",
    "  #Create arrays from feature importance and feature names\n",
    "  feature_importance = np.array(importance)\n",
    "  feature_names = np.array(names)\n",
    "\n",
    "  #Create a DataFrame using a Dictionary\n",
    "  data={'feature_names':feature_names,'feature_importance':feature_importance}\n",
    "  fi_df = pd.DataFrame(data)\n",
    "\n",
    "  #Sort the DataFrame in order decreasing feature importance\n",
    "  fi_df.sort_values(by=['feature_importance'], ascending=False,inplace=True)\n",
    "\n",
    "  #Define size of bar plot\n",
    "  plt.figure(figsize=(10,8))\n",
    "  #Plot Searborn bar chart\n",
    "  sns.barplot(x=fi_df['feature_importance'], y=fi_df['feature_names'])\n",
    "  #Add chart labels\n",
    "  plt.title(' Important Features')\n",
    "  plt.xlabel('Feature Importance')\n",
    "  plt.ylabel('Feature Names')"
   ]
  },
  {
   "cell_type": "code",
   "execution_count": null,
   "metadata": {
    "colab": {
     "base_uri": "https://localhost:8080/",
     "height": 513
    },
    "id": "vZ0lPjYkXW7x",
    "outputId": "acf53bc5-4b24-49b3-8a5d-ffafb1cd8917"
   },
   "outputs": [
    {
     "data": {
      "image/png": "[encoded data removed]",
      "text/plain": [
       "<Figure size 720x576 with 1 Axes>"
      ]
     },
     "metadata": {
      "needs_background": "light"
     },
     "output_type": "display_data"
    }
   ],
   "source": [
    "plot_feature_importance(clf.feature_importances_, df.columns,'RANDOM FOREST')"
   ]
  },
  {
   "cell_type": "markdown",
   "metadata": {
    "id": "_y4iBk9drjR3"
   },
   "source": [
    "# XGBoost"
   ]
  },
  {
   "cell_type": "code",
   "execution_count": null,
   "metadata": {
    "id": "x6-RLuYpVUpW"
   },
   "outputs": [],
   "source": [
    "from xgboost import XGBClassifier\n",
    "from sklearn.model_selection import learning_curve"
   ]
  },
  {
   "cell_type": "code",
   "execution_count": null,
   "metadata": {
    "id": "EH1kSIh0WJg9"
   },
   "outputs": [],
   "source": [
    "train_df, test_df = train_test_split(df, test_size=0.2, random_state=1500, shuffle=True )"
   ]
  },
  {
   "cell_type": "code",
   "execution_count": null,
   "metadata": {
    "colab": {
     "base_uri": "https://localhost:8080/"
    },
    "id": "7m1bwkO6X2g4",
    "outputId": "7aaba279-def5-475c-f180-34c28fd30c60"
   },
   "outputs": [
    {
     "name": "stdout",
     "output_type": "stream",
     "text": [
      "PitchNo\n",
      "RelSpeed\n",
      "SpinRate\n",
      "InducedVertBreak\n",
      "HorzBreak\n",
      "PlateLocSide\n",
      "PlateLocHeight\n",
      "ZoneSpeed\n",
      "Balls\n",
      "Strikes\n",
      "swungAt\n",
      "RelSpeed_vs_ZoneSpeed\n",
      "Difference_from_avg_speed\n",
      "SideExtremity\n",
      "HeightExtremity\n",
      "Extreme\n",
      "HorzBreakExtremity\n",
      "VertBreakExtremity\n",
      "SpinRateExtremity\n",
      "PitchMovement\n",
      "TaggedPitchType_ChangeUp\n",
      "TaggedPitchType_Curveball\n",
      "TaggedPitchType_Cutter\n",
      "TaggedPitchType_Fastball\n",
      "TaggedPitchType_Sinker\n",
      "TaggedPitchType_Slider\n",
      "TaggedPitchType_Splitter\n",
      "PitcherThrows_Left\n",
      "PitcherThrows_Right\n",
      "BatterSide_Left\n",
      "BatterSide_Right\n",
      "BatterSide_Undefined\n",
      "PreviousPitchType_ChangeUp\n",
      "PreviousPitchType_Curveball\n",
      "PreviousPitchType_Cutter\n",
      "PreviousPitchType_Fastball\n",
      "PreviousPitchType_Sinker\n",
      "PreviousPitchType_Slider\n",
      "PreviousPitchType_Splitter\n",
      "PreviousPitchType_none\n"
     ]
    }
   ],
   "source": [
    "for col in df.columns:\n",
    "    print(col)"
   ]
  },
  {
   "cell_type": "code",
   "execution_count": null,
   "metadata": {
    "id": "Hy0hWIsDXiWa"
   },
   "outputs": [],
   "source": [
    "target = 'swungAt'\n",
    "predictors = ['RelSpeed',\n",
    "'SpinRate',\n",
    "'InducedVertBreak',\n",
    "'HorzBreak',\n",
    "'PlateLocSide',\n",
    "'PlateLocHeight',\n",
    "'ZoneSpeed', 'RelSpeed_vs_ZoneSpeed',\n",
    "'Difference_from_avg_speed',\n",
    "'SideExtremity',\n",
    "'HeightExtremity',\n",
    "'TaggedPitchType_ChangeUp',\n",
    "'TaggedPitchType_Curveball',\n",
    "'TaggedPitchType_Cutter',\n",
    "'TaggedPitchType_Fastball',\n",
    "'TaggedPitchType_Sinker',\n",
    "'TaggedPitchType_Slider',\n",
    "'TaggedPitchType_Splitter',\n",
    "'PitcherThrows_Left',\n",
    "'PitcherThrows_Right',\n",
    "'BatterSide_Left',\n",
    "'BatterSide_Right',\n",
    "'BatterSide_Undefined',\n",
    "'Extreme', 'HorzBreakExtremity',\n",
    "'VertBreakExtremity',\n",
    "'SpinRateExtremity',\n",
    "'PitchMovement', 'Balls',\n",
    "'Strikes', 'PreviousPitchType_ChangeUp',\n",
    "'PreviousPitchType_Curveball',\n",
    "'PreviousPitchType_Cutter',\n",
    "'PreviousPitchType_Fastball',\n",
    "'PreviousPitchType_Sinker',\n",
    "'PreviousPitchType_Slider',\n",
    "'PreviousPitchType_Splitter',\n",
    "'PreviousPitchType_none']"
   ]
  },
  {
   "cell_type": "code",
   "execution_count": null,
   "metadata": {
    "id": "VGf8CvDlYgFB"
   },
   "outputs": [],
   "source": [
    "train_df_bkp = train_df.copy()\n",
    "test_df_bkp = test_df.copy()"
   ]
  },
  {
   "cell_type": "code",
   "execution_count": null,
   "metadata": {
    "id": "m51P9i4_V5aK"
   },
   "outputs": [],
   "source": [
    "import xgboost as xgb\n",
    "\n",
    "dtrain = xgb.DMatrix(train_df[predictors], train_df[target].values)\n",
    "dtest = xgb.DMatrix(test_df[predictors], test_df[target].values)\n",
    "\n",
    "watchlist = [(dtrain, 'train'), (dtest, 'test')]\n",
    "\n",
    "params = {}\n",
    "params['objective'] = 'binary:logistic'\n",
    "params['eta'] = 0.039\n",
    "params['silent'] = True\n",
    "params['max_depth'] = 2\n",
    "params['subsample'] = 0.8\n",
    "params['colsample_bytree'] = 0.9\n",
    "params['eval_metric'] = 'auc'\n",
    "params['random_state'] = 1500"
   ]
  },
  {
   "cell_type": "code",
   "execution_count": null,
   "metadata": {
    "colab": {
     "base_uri": "https://localhost:8080/"
    },
    "id": "_kyvO4aZYj2l",
    "outputId": "d5b72eee-fbf8-46db-941b-cfc98afef97c"
   },
   "outputs": [
    {
     "name": "stdout",
     "output_type": "stream",
     "text": [
      "[0]\ttrain-auc:0.705172\ttest-auc:0.675905\n",
      "Multiple eval metrics have been passed: 'test-auc' will be used for early stopping.\n",
      "\n",
      "Will train until test-auc hasn't improved in 50 rounds.\n",
      "[50]\ttrain-auc:0.838833\ttest-auc:0.805889\n",
      "[100]\ttrain-auc:0.857025\ttest-auc:0.825222\n",
      "[150]\ttrain-auc:0.867037\ttest-auc:0.836425\n",
      "[200]\ttrain-auc:0.873818\ttest-auc:0.843259\n",
      "[250]\ttrain-auc:0.880939\ttest-auc:0.84896\n",
      "[300]\ttrain-auc:0.885616\ttest-auc:0.851421\n",
      "[350]\ttrain-auc:0.89152\ttest-auc:0.85338\n",
      "[400]\ttrain-auc:0.897028\ttest-auc:0.855307\n",
      "[450]\ttrain-auc:0.901411\ttest-auc:0.856087\n",
      "[500]\ttrain-auc:0.905902\ttest-auc:0.858199\n",
      "[550]\ttrain-auc:0.909652\ttest-auc:0.85782\n",
      "Stopping. Best iteration:\n",
      "[514]\ttrain-auc:0.907162\ttest-auc:0.858681\n",
      "\n"
     ]
    }
   ],
   "source": [
    "model = xgb.train(params, \n",
    "                dtrain, \n",
    "                1000, \n",
    "                watchlist, \n",
    "                early_stopping_rounds=50, \n",
    "                maximize=True, \n",
    "                verbose_eval=50)"
   ]
  },
  {
   "cell_type": "code",
   "execution_count": null,
   "metadata": {
    "colab": {
     "base_uri": "https://localhost:8080/",
     "height": 350
    },
    "id": "fXeCNmrjYp7S",
    "outputId": "a28350b2-ddcf-4c4e-bdcf-6ac7957e92bd"
   },
   "outputs": [
    {
     "data": {
      "image/png": "[encoded data removed]",
      "text/plain": [
       "<Figure size 576x360 with 1 Axes>"
      ]
     },
     "metadata": {
      "needs_background": "light"
     },
     "output_type": "display_data"
    }
   ],
   "source": [
    "fig, (ax) = plt.subplots(ncols=1, figsize=(8,5))\n",
    "xgb.plot_importance(model, height=0.8, title=\"Features importance (XGBoost)\", ax=ax, color=\"orange\") \n",
    "plt.show()"
   ]
  },
  {
   "cell_type": "code",
   "execution_count": null,
   "metadata": {
    "id": "nGG4kEXQsYA3"
   },
   "outputs": [],
   "source": [
    "# Feature Selection\n",
    "new_predictors = ['HorzBreak',\n",
    "'PlateLocSide',\n",
    "'PlateLocHeight', 'SpinRate',\n",
    "'InducedVertBreak', 'RelSpeed_vs_ZoneSpeed', 'RelSpeed',\n",
    "'ZoneSpeed', 'SideExtremity',\n",
    "'HeightExtremity', 'Extreme', 'Balls', 'Strikes', 'HorzBreakExtremity', 'PitchMovement',\n",
    "'VertBreakExtremity']"
   ]
  },
  {
   "cell_type": "code",
   "execution_count": null,
   "metadata": {
    "id": "1LlFqz1gsa9V"
   },
   "outputs": [],
   "source": [
    "import xgboost as xgb\n",
    "\n",
    "dtrain = xgb.DMatrix(train_df[new_predictors], train_df[target].values)\n",
    "dtest = xgb.DMatrix(test_df[new_predictors], test_df[target].values)\n",
    "\n",
    "watchlist = [(dtrain, 'train'), (dtest, 'test')]\n",
    "\n",
    "params = {}\n",
    "params['objective'] = 'binary:logistic'\n",
    "params['eta'] = 0.039\n",
    "params['silent'] = True\n",
    "params['max_depth'] = 2\n",
    "params['subsample'] = 0.8\n",
    "params['colsample_bytree'] = 0.9\n",
    "params['eval_metric'] = 'auc'\n",
    "params['random_state'] = 1500"
   ]
  },
  {
   "cell_type": "code",
   "execution_count": null,
   "metadata": {
    "colab": {
     "base_uri": "https://localhost:8080/"
    },
    "id": "ZswzigyLsrfL",
    "outputId": "dad2e927-d225-4c2f-b0fa-822638b943cb"
   },
   "outputs": [
    {
     "name": "stdout",
     "output_type": "stream",
     "text": [
      "[0]\ttrain-auc:0.705172\ttest-auc:0.675905\n",
      "Multiple eval metrics have been passed: 'test-auc' will be used for early stopping.\n",
      "\n",
      "Will train until test-auc hasn't improved in 50 rounds.\n",
      "[50]\ttrain-auc:0.837101\ttest-auc:0.806407\n",
      "[100]\ttrain-auc:0.857882\ttest-auc:0.825176\n",
      "[150]\ttrain-auc:0.866685\ttest-auc:0.836461\n",
      "[200]\ttrain-auc:0.87291\ttest-auc:0.842367\n",
      "[250]\ttrain-auc:0.88002\ttest-auc:0.848642\n",
      "[300]\ttrain-auc:0.885081\ttest-auc:0.852047\n",
      "[350]\ttrain-auc:0.89117\ttest-auc:0.853821\n",
      "[400]\ttrain-auc:0.896523\ttest-auc:0.85581\n",
      "[450]\ttrain-auc:0.900651\ttest-auc:0.856897\n",
      "[500]\ttrain-auc:0.905496\ttest-auc:0.85904\n",
      "[550]\ttrain-auc:0.909263\ttest-auc:0.859706\n",
      "[600]\ttrain-auc:0.912697\ttest-auc:0.86026\n",
      "[650]\ttrain-auc:0.916281\ttest-auc:0.860363\n",
      "Stopping. Best iteration:\n",
      "[628]\ttrain-auc:0.914668\ttest-auc:0.860783\n",
      "\n"
     ]
    }
   ],
   "source": [
    "model = xgb.train(params, \n",
    "                dtrain, \n",
    "                1000, \n",
    "                watchlist, \n",
    "                early_stopping_rounds=50, \n",
    "                maximize=True, \n",
    "                verbose_eval=50)"
   ]
  },
  {
   "cell_type": "code",
   "execution_count": null,
   "metadata": {
    "colab": {
     "base_uri": "https://localhost:8080/",
     "height": 350
    },
    "id": "VTDi8s_HtCM5",
    "outputId": "c7f8f682-8bb2-46d1-9611-d88e80abb3e2"
   },
   "outputs": [
    {
     "data": {
      "image/png": "[encoded data removed]",
      "text/plain": [
       "<Figure size 576x360 with 1 Axes>"
      ]
     },
     "metadata": {
      "needs_background": "light"
     },
     "output_type": "display_data"
    }
   ],
   "source": [
    "fig, (ax) = plt.subplots(ncols=1, figsize=(8,5))\n",
    "xgb.plot_importance(model, height=0.8, title=\"Features importance (XGBoost)\", ax=ax, color=\"orange\") \n",
    "plt.show()"
   ]
  },
  {
   "cell_type": "code",
   "execution_count": null,
   "metadata": {
    "id": "5DumHOqfvvkq"
   },
   "outputs": [],
   "source": [
    "y=X['swungAt'].copy()\n",
    "#X=X.copy().drop('swungAt', axis=1)\n",
    "X=X[['HorzBreak',\n",
    "'PlateLocSide',\n",
    "'PlateLocHeight', 'SpinRate',\n",
    "'InducedVertBreak', 'RelSpeed_vs_ZoneSpeed', 'RelSpeed',\n",
    "'ZoneSpeed', 'SideExtremity',\n",
    "'HeightExtremity', 'Extreme', 'Balls', 'Strikes', 'HorzBreakExtremity']]\n",
    "\n",
    "X_train, X_test, y_train, y_test = train_test_split(X, y, test_size=0.33, random_state=895)"
   ]
  },
  {
   "cell_type": "code",
   "execution_count": null,
   "metadata": {
    "colab": {
     "base_uri": "https://localhost:8080/"
    },
    "id": "7K7Xi3Qlv7Ul",
    "outputId": "64d12b13-7f23-4ae5-e721-1f6c2a0f92f0"
   },
   "outputs": [
    {
     "data": {
      "text/plain": [
       "XGBClassifier(n_jobs=-1)"
      ]
     },
     "execution_count": 364,
     "metadata": {},
     "output_type": "execute_result"
    }
   ],
   "source": [
    "xgb = XGBClassifier(n_jobs = -1)\n",
    "xgb"
   ]
  },
  {
   "cell_type": "code",
   "execution_count": null,
   "metadata": {
    "id": "6rmFyE4_wOnR"
   },
   "outputs": [],
   "source": [
    "from sklearn.metrics import accuracy_score\n",
    "from sklearn.metrics import recall_score\n",
    "from sklearn.metrics import precision_score\n",
    "from sklearn.metrics import f1_score"
   ]
  },
  {
   "cell_type": "code",
   "execution_count": null,
   "metadata": {
    "colab": {
     "base_uri": "https://localhost:8080/"
    },
    "id": "ZNlkz9E1v_Sv",
    "outputId": "0eb8c1ca-7725-4f54-afd4-5eb6f1f32121"
   },
   "outputs": [
    {
     "name": "stdout",
     "output_type": "stream",
     "text": [
      "Accuracy: 77.135%\n",
      "Recall: 75.792%\n",
      "Precision: 71.429%\n",
      "f1: 77.135%\n"
     ]
    }
   ],
   "source": [
    "xgb.fit(X_train, y_train)\n",
    "prediction = xgb.predict(X_test)\n",
    "print(\"Accuracy: {}%\".format(round(accuracy_score(y_test, prediction) * 100,3)))\n",
    "print(\"Recall: {}%\".format(round(recall_score(y_test, prediction) * 100,3)))\n",
    "print(\"Precision: {}%\".format(round(precision_score(y_test, prediction) * 100,3)))\n",
    "print(\"f1: {}%\".format(round(accuracy_score(y_test, prediction) * 100,3)))"
   ]
  },
  {
   "cell_type": "code",
   "execution_count": null,
   "metadata": {
    "colab": {
     "base_uri": "https://localhost:8080/",
     "height": 329
    },
    "id": "Qq_YcKhHwlne",
    "outputId": "0aa89c79-b60b-4a96-b0d2-4a15e1cb796c"
   },
   "outputs": [
    {
     "data": {
      "text/plain": [
       "<function matplotlib.pyplot.show>"
      ]
     },
     "execution_count": 428,
     "metadata": {},
     "output_type": "execute_result"
    },
    {
     "data": {
      "image/png": "[encoded data removed]",
      "text/plain": [
       "<Figure size 432x288 with 2 Axes>"
      ]
     },
     "metadata": {
      "needs_background": "light"
     },
     "output_type": "display_data"
    }
   ],
   "source": [
    "from itertools import combinations, product\n",
    "cm = confusion_matrix(y_test, prediction)\n",
    "cmap = plt.cm.Greens\n",
    "classes = [0,1]\n",
    "thresh = cm.max() / 2.\n",
    "fmt = 'd'\n",
    "\n",
    "plt.imshow(cm, interpolation='nearest', cmap=cmap)\n",
    "plt.colorbar()\n",
    "tick_marks = np.arange(len(classes))\n",
    "plt.xticks(tick_marks, classes, rotation=0)\n",
    "plt.yticks(tick_marks, classes)\n",
    "plt.tight_layout()\n",
    "plt.ylabel('True label')\n",
    "plt.xlabel('Predicted label')\n",
    "for i, j in product(range(cm.shape[0]), range(cm.shape[1])):\n",
    "    plt.text(j, i, format(cm[i, j], fmt),\n",
    "             horizontalalignment=\"center\",\n",
    "             color=\"white\" if cm[i, j] > thresh else \"black\")\n",
    "plt.show"
   ]
  }
 ],
 "metadata": {
  "colab": {
   "collapsed_sections": [],
   "name": "340 Code XGB and Random Forest.ipynb",
   "provenance": []
  },
  "kernelspec": {
   "display_name": "Python 3",
   "language": "python",
   "name": "python3"
  },
  "language_info": {
   "codemirror_mode": {
    "name": "ipython",
    "version": 3
   },
   "file_extension": ".py",
   "mimetype": "text/x-python",
   "name": "python",
   "nbconvert_exporter": "python",
   "pygments_lexer": "ipython3",
   "version": "3.8.5"
  }
 },
 "nbformat": 4,
 "nbformat_minor": 1
}
